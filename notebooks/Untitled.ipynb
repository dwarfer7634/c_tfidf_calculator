{
 "cells": [
  {
   "cell_type": "code",
   "execution_count": 6,
   "id": "5eefd048-4d91-4b98-8b46-f28ddd125cc4",
   "metadata": {},
   "outputs": [],
   "source": [
    "import sklearn\n",
    "import sudachipy\n",
    "from sudachipy import tokenizer\n",
    "from sudachipy import dictionary\n",
    "\n",
    "tokenizer_obj = dictionary.Dictionary().create()"
   ]
  },
  {
   "cell_type": "code",
   "execution_count": null,
   "id": "b88cce23-c057-4fe8-a4b9-f44dcc8d8d55",
   "metadata": {},
   "outputs": [],
   "source": [
    "class CTfidfClaculator:\n",
    "    def __init__(self, mode=\"one-vs-one\"):\n",
    "        return "
   ]
  },
  {
   "cell_type": "code",
   "execution_count": null,
   "id": "5ea2d7c6-8a30-49d0-926a-a2464294596d",
   "metadata": {},
   "outputs": [],
   "source": []
  },
  {
   "cell_type": "code",
   "execution_count": null,
   "id": "59f17da1-c118-411e-8234-2cb96c61dd36",
   "metadata": {},
   "outputs": [],
   "source": []
  },
  {
   "cell_type": "code",
   "execution_count": null,
   "id": "4ed2f0db-534f-43c4-9218-3240320915cb",
   "metadata": {},
   "outputs": [],
   "source": [
    "\n",
    "\n",
    "def calc_c_tfidf"
   ]
  },
  {
   "cell_type": "code",
   "execution_count": null,
   "id": "421e14aa-f65f-4dce-945a-409571d3f880",
   "metadata": {},
   "outputs": [],
   "source": []
  },
  {
   "cell_type": "code",
   "execution_count": 7,
   "id": "d9f6fb82-4361-4ffd-a438-d1090a601ab0",
   "metadata": {},
   "outputs": [
    {
     "data": {
      "text/plain": [
       "['国家公務員']"
      ]
     },
     "execution_count": 7,
     "metadata": {},
     "output_type": "execute_result"
    }
   ],
   "source": [
    "mode = tokenizer.Tokenizer.SplitMode.C\n",
    "[m.surface() for m in tokenizer_obj.tokenize(\"国家公務員\", mode)]"
   ]
  },
  {
   "cell_type": "code",
   "execution_count": null,
   "id": "356edb8b-f0a2-4920-8709-8445c0f44542",
   "metadata": {},
   "outputs": [],
   "source": []
  }
 ],
 "metadata": {
  "kernelspec": {
   "display_name": "Python 3 (ipykernel)",
   "language": "python",
   "name": "python3"
  },
  "language_info": {
   "codemirror_mode": {
    "name": "ipython",
    "version": 3
   },
   "file_extension": ".py",
   "mimetype": "text/x-python",
   "name": "python",
   "nbconvert_exporter": "python",
   "pygments_lexer": "ipython3",
   "version": "3.11.2"
  }
 },
 "nbformat": 4,
 "nbformat_minor": 5
}
